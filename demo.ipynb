{
 "cells": [
  {
   "attachments": {},
   "cell_type": "markdown",
   "id": "ff177d81",
   "metadata": {},
   "source": [
    "# Cosmological structure"
   ]
  },
  {
   "attachments": {},
   "cell_type": "markdown",
   "id": "cc7aa419",
   "metadata": {},
   "source": [
    "How to use `twinLab` to create a cosmological structure model."
   ]
  },
  {
   "cell_type": "markdown",
   "id": "713fe7a1",
   "metadata": {},
   "source": [
    "## Configuration"
   ]
  },
  {
   "cell_type": "code",
   "execution_count": 1,
   "id": "f0da9fb2",
   "metadata": {},
   "outputs": [],
   "source": [
    "USER_NAME = \"Dodders\"\n",
    "GROUP_NAME = \"digiLab\"\n",
    "\n",
    "CAMPAIGN_ID = \"biscuits\"\n",
    "\n",
    "TRAINING_DATA = \"train.csv\"\n",
    "EMULATOR_PARAMS = \"params.json\"\n",
    "EVALUATION_DATA = \"eval.csv\""
   ]
  },
  {
   "cell_type": "code",
   "execution_count": null,
   "id": "378bdc7a",
   "metadata": {},
   "outputs": [
    {
     "name": "stdout",
     "output_type": "stream",
     "text": [
      "Dataset..... ./resources/campaigns/biscuits/train.csv\n",
      "Parameters.. ./resources/campaigns/biscuits/params.json\n",
      "Evaluate.... ./resources/campaigns/biscuits/eval.csv\n"
     ]
    }
   ],
   "source": [
    "import os\n",
    "\n",
    "CAMPAIGN_DIR = os.path.join(\".\", \"resources\", \"campaigns\", CAMPAIGN_ID)\n",
    "\n",
    "DATASET_PATH = os.path.join(CAMPAIGN_DIR, TRAINING_DATA)\n",
    "PARAMS_PATH = os.path.join(CAMPAIGN_DIR, EMULATOR_PARAMS)\n",
    "EVALUATION_PATH = os.path.join(CAMPAIGN_DIR, EVALUATION_DATA)\n",
    "\n",
    "print(f\"Dataset..... {DATASET_PATH}\")\n",
    "print(f\"Parameters.. {PARAMS_PATH}\")\n",
    "print(f\"Evaluate.... {EVALUATION_PATH}\")"
   ]
  },
  {
   "cell_type": "markdown",
   "id": "fbfdd36c",
   "metadata": {},
   "source": [
    "### .env"
   ]
  },
  {
   "cell_type": "markdown",
   "id": "3fbd8c35",
   "metadata": {},
   "source": [
    "Create an `.env` file from `.env.example`, and fill in your `USER_NAME` and `GROUP_NAME`."
   ]
  },
  {
   "cell_type": "code",
   "execution_count": 3,
   "id": "5cf18c07",
   "metadata": {},
   "outputs": [],
   "source": [
    "!cp .env.example .env"
   ]
  },
  {
   "cell_type": "code",
   "execution_count": 4,
   "id": "a0c3a16a",
   "metadata": {},
   "outputs": [],
   "source": [
    "import dotenv\n",
    "\n",
    "dotenv_file = dotenv.find_dotenv()\n",
    "dotenv.set_key(dotenv_file, \"USER_NAME\", USER_NAME)\n",
    "dotenv.set_key(dotenv_file, \"GROUP_NAME\", GROUP_NAME);"
   ]
  },
  {
   "cell_type": "markdown",
   "id": "fd0de6aa",
   "metadata": {},
   "source": [
    "### Library"
   ]
  },
  {
   "cell_type": "markdown",
   "id": "f6a1d7a3",
   "metadata": {},
   "source": [
    "Import the `twinLab` client with: "
   ]
  },
  {
   "cell_type": "code",
   "execution_count": 5,
   "id": "a5ebf8ba",
   "metadata": {},
   "outputs": [
    {
     "name": "stdout",
     "output_type": "stream",
     "text": [
      "\n",
      "      == Client Initialisation ==\n",
      "      Local Server  : http://localhost:3000\n",
      "      Cloud Server  : https://z2seun1aee.execute-api.eu-west-2.amazonaws.com/Prod\n",
      "      Group Name    : digiLab\n",
      "      User Name     : Dodders\n",
      "      \n"
     ]
    }
   ],
   "source": [
    "import twinlab as tl"
   ]
  },
  {
   "cell_type": "markdown",
   "id": "719c5ffa",
   "metadata": {},
   "source": [
    "Ensure that the correct group and user names are reported.\n",
    "These are used to track client usage."
   ]
  },
  {
   "cell_type": "markdown",
   "id": "8996ed45",
   "metadata": {},
   "source": [
    "## Run"
   ]
  },
  {
   "cell_type": "markdown",
   "id": "729e31dc",
   "metadata": {},
   "source": [
    "### Upload dataset"
   ]
  },
  {
   "cell_type": "markdown",
   "id": "c8fca977",
   "metadata": {},
   "source": [
    "We'll use the csv data in `resources/data/train.csv` to train our emulator:"
   ]
  },
  {
   "cell_type": "code",
   "execution_count": 6,
   "id": "d3a059f7",
   "metadata": {},
   "outputs": [],
   "source": [
    "tl.upload_dataset(DATASET_PATH)"
   ]
  },
  {
   "cell_type": "markdown",
   "id": "587e274c",
   "metadata": {},
   "source": [
    "**NOTE:** If your dataset is larger than `6mb` you should use `tl.upload_big_dataset(DATASET_PATH)`"
   ]
  },
  {
   "cell_type": "markdown",
   "id": "488b7be7",
   "metadata": {},
   "source": [
    "### List datasets"
   ]
  },
  {
   "cell_type": "markdown",
   "id": "e9ff52fa",
   "metadata": {},
   "source": [
    "Check which datasets are avalible to train with:"
   ]
  },
  {
   "cell_type": "code",
   "execution_count": 7,
   "id": "2b55e633",
   "metadata": {},
   "outputs": [
    {
     "data": {
      "text/plain": [
       "['train.csv']"
      ]
     },
     "execution_count": 7,
     "metadata": {},
     "output_type": "execute_result"
    }
   ],
   "source": [
    "tl.list_datasets()"
   ]
  },
  {
   "cell_type": "markdown",
   "id": "b6b255b8",
   "metadata": {},
   "source": [
    "### View dataset statistics"
   ]
  },
  {
   "cell_type": "markdown",
   "id": "a9973bdd",
   "metadata": {},
   "source": [
    "You can query the statistical data about a dataset:"
   ]
  },
  {
   "cell_type": "code",
   "execution_count": 8,
   "id": "3d1dc625",
   "metadata": {},
   "outputs": [
    {
     "data": {
      "text/html": [
       "<div>\n",
       "<style scoped>\n",
       "    .dataframe tbody tr th:only-of-type {\n",
       "        vertical-align: middle;\n",
       "    }\n",
       "\n",
       "    .dataframe tbody tr th {\n",
       "        vertical-align: top;\n",
       "    }\n",
       "\n",
       "    .dataframe thead th {\n",
       "        text-align: right;\n",
       "    }\n",
       "</style>\n",
       "<table border=\"1\" class=\"dataframe\">\n",
       "  <thead>\n",
       "    <tr style=\"text-align: right;\">\n",
       "      <th></th>\n",
       "      <th>x</th>\n",
       "      <th>y</th>\n",
       "    </tr>\n",
       "  </thead>\n",
       "  <tbody>\n",
       "    <tr>\n",
       "      <th>count</th>\n",
       "      <td>10.000000</td>\n",
       "      <td>10.000000</td>\n",
       "    </tr>\n",
       "    <tr>\n",
       "      <th>mean</th>\n",
       "      <td>0.544199</td>\n",
       "      <td>0.029383</td>\n",
       "    </tr>\n",
       "    <tr>\n",
       "      <th>std</th>\n",
       "      <td>0.229352</td>\n",
       "      <td>0.748191</td>\n",
       "    </tr>\n",
       "    <tr>\n",
       "      <th>min</th>\n",
       "      <td>0.226851</td>\n",
       "      <td>-0.960764</td>\n",
       "    </tr>\n",
       "    <tr>\n",
       "      <th>25%</th>\n",
       "      <td>0.399865</td>\n",
       "      <td>-0.694614</td>\n",
       "    </tr>\n",
       "    <tr>\n",
       "      <th>50%</th>\n",
       "      <td>0.516123</td>\n",
       "      <td>0.087574</td>\n",
       "    </tr>\n",
       "    <tr>\n",
       "      <th>75%</th>\n",
       "      <td>0.693559</td>\n",
       "      <td>0.734513</td>\n",
       "    </tr>\n",
       "    <tr>\n",
       "      <th>max</th>\n",
       "      <td>0.980764</td>\n",
       "      <td>0.921553</td>\n",
       "    </tr>\n",
       "  </tbody>\n",
       "</table>\n",
       "</div>"
      ],
      "text/plain": [
       "               x          y\n",
       "count  10.000000  10.000000\n",
       "mean    0.544199   0.029383\n",
       "std     0.229352   0.748191\n",
       "min     0.226851  -0.960764\n",
       "25%     0.399865  -0.694614\n",
       "50%     0.516123   0.087574\n",
       "75%     0.693559   0.734513\n",
       "max     0.980764   0.921553"
      ]
     },
     "execution_count": 8,
     "metadata": {},
     "output_type": "execute_result"
    }
   ],
   "source": [
    "tl.query_dataset(TRAINING_DATA)"
   ]
  },
  {
   "cell_type": "markdown",
   "id": "020843c1",
   "metadata": {},
   "source": [
    "### Train"
   ]
  },
  {
   "cell_type": "markdown",
   "id": "d02ebd9a",
   "metadata": {},
   "source": [
    "Set emulator parameters:"
   ]
  },
  {
   "cell_type": "code",
   "execution_count": 9,
   "id": "b950ab74",
   "metadata": {},
   "outputs": [
    {
     "name": "stdout",
     "output_type": "stream",
     "text": [
      "params = {\n",
      "  \"estimator\": \"gaussian_process_regression\",\n",
      "  \"filename\": \"train.csv\",\n",
      "  \"inputs\": [\n",
      "    \"x\"\n",
      "  ],\n",
      "  \"outputs\": [\n",
      "    \"y\"\n",
      "  ],\n",
      "  \"train_test_split\": 10\n",
      "}\n"
     ]
    }
   ],
   "source": [
    "import json\n",
    "\n",
    "with open(PARAMS_PATH, \"r\") as f:\n",
    "    params = json.load(f)\n",
    "params[\"filename\"] = TRAINING_DATA\n",
    "\n",
    "print(f\"params = {json.dumps(params, indent=2)}\")"
   ]
  },
  {
   "cell_type": "markdown",
   "id": "76b083f8",
   "metadata": {},
   "source": [
    "Train the emulator:"
   ]
  },
  {
   "cell_type": "code",
   "execution_count": 10,
   "id": "a70b1605",
   "metadata": {},
   "outputs": [],
   "source": [
    "tl.train_campaign(params, CAMPAIGN_ID)"
   ]
  },
  {
   "cell_type": "markdown",
   "id": "93147c84",
   "metadata": {},
   "source": [
    "### View the trained emulators:"
   ]
  },
  {
   "cell_type": "markdown",
   "id": "c75b9857",
   "metadata": {},
   "source": [
    "Check which campaigns are ready with:"
   ]
  },
  {
   "cell_type": "code",
   "execution_count": 11,
   "id": "b927f8d8",
   "metadata": {},
   "outputs": [
    {
     "data": {
      "text/plain": [
       "['biscuits']"
      ]
     },
     "execution_count": 11,
     "metadata": {},
     "output_type": "execute_result"
    }
   ],
   "source": [
    "tl.list_campaigns()"
   ]
  },
  {
   "cell_type": "markdown",
   "id": "56f34064",
   "metadata": {},
   "source": [
    "### View emulator metadata"
   ]
  },
  {
   "cell_type": "markdown",
   "id": "f359f0d9",
   "metadata": {},
   "source": [
    "View an emulator's metadata:"
   ]
  },
  {
   "cell_type": "code",
   "execution_count": 12,
   "id": "e3911b4c",
   "metadata": {},
   "outputs": [
    {
     "name": "stdout",
     "output_type": "stream",
     "text": [
      "{\n",
      "  \"inputs\": [\n",
      "    \"x\"\n",
      "  ],\n",
      "  \"outputs\": [\n",
      "    \"y\"\n",
      "  ],\n",
      "  \"diagnostics\": {\n",
      "    \"transformer_diagnostics\": [],\n",
      "    \"estimator_diagnostics\": {\n",
      "      \"likelihood.noise_covar.raw_noise\": [\n",
      "        0.03031922037067703\n",
      "      ],\n",
      "      \"likelihood.noise_covar.noise_prior.concentration\": 1.100000023841858,\n",
      "      \"likelihood.noise_covar.noise_prior.rate\": 0.05000000074505806,\n",
      "      \"likelihood.noise_covar.raw_noise_constraint.lower_bound\": 9.999999747378752e-05,\n",
      "      \"likelihood.noise_covar.raw_noise_constraint.upper_bound\": Infinity,\n",
      "      \"mean_module.raw_constant\": 0.210623099693663,\n",
      "      \"covar_module.raw_outputscale\": 1.512396685623281,\n",
      "      \"covar_module.base_kernel.raw_lengthscale\": [\n",
      "        [\n",
      "          -0.6401321833497503\n",
      "        ]\n",
      "      ],\n",
      "      \"covar_module.base_kernel.lengthscale_prior.concentration\": 3.0,\n",
      "      \"covar_module.base_kernel.lengthscale_prior.rate\": 6.0,\n",
      "      \"covar_module.base_kernel.raw_lengthscale_constraint.lower_bound\": 0.0,\n",
      "      \"covar_module.base_kernel.raw_lengthscale_constraint.upper_bound\": Infinity,\n",
      "      \"covar_module.outputscale_prior.concentration\": 2.0,\n",
      "      \"covar_module.outputscale_prior.rate\": 0.15000000596046448,\n",
      "      \"covar_module.raw_outputscale_constraint.lower_bound\": 0.0,\n",
      "      \"covar_module.raw_outputscale_constraint.upper_bound\": Infinity,\n",
      "      \"outcome_transform.means\": [\n",
      "        [\n",
      "          0.029383131672480856\n",
      "        ]\n",
      "      ],\n",
      "      \"outcome_transform.stdvs\": [\n",
      "        [\n",
      "          0.7481906564998719\n",
      "        ]\n",
      "      ],\n",
      "      \"outcome_transform._stdvs_sq\": [\n",
      "        [\n",
      "          0.5597892584737093\n",
      "        ]\n",
      "      ],\n",
      "      \"input_transform._coefficient\": [\n",
      "        [\n",
      "          0.7539127448204125\n",
      "        ]\n",
      "      ],\n",
      "      \"input_transform._offset\": [\n",
      "        [\n",
      "          0.2268514535642031\n",
      "        ]\n",
      "      ]\n",
      "    }\n",
      "  },\n",
      "  \"calibration_error\": NaN\n",
      "}\n"
     ]
    }
   ],
   "source": [
    "response = tl.query_campaign(CAMPAIGN_ID)\n",
    "print(json.dumps(response, indent=2))"
   ]
  },
  {
   "cell_type": "markdown",
   "id": "99bb1bc7",
   "metadata": {},
   "source": [
    "### Sample"
   ]
  },
  {
   "cell_type": "markdown",
   "id": "106a9c99",
   "metadata": {},
   "source": [
    "Sample the emulator:"
   ]
  },
  {
   "cell_type": "code",
   "execution_count": 13,
   "id": "fd70a692",
   "metadata": {},
   "outputs": [],
   "source": [
    "df_mean, df_std = tl.sample_campaign(EVALUATION_PATH, CAMPAIGN_ID)"
   ]
  },
  {
   "cell_type": "code",
   "execution_count": 14,
   "id": "3ff61305",
   "metadata": {},
   "outputs": [
    {
     "data": {
      "image/png": "[encoded data removed]",
      "text/plain": [
       "<Figure size 640x480 with 1 Axes>"
      ]
     },
     "metadata": {},
     "output_type": "display_data"
    }
   ],
   "source": [
    "import matplotlib.pyplot as plt\n",
    "\n",
    "plt.plot(df_mean, \".\", color=\"blue\", alpha=0.5)\n",
    "plt.plot(df_mean + df_std, \".\", color=\"red\", alpha=0.5)\n",
    "plt.plot(df_mean - df_std, \".\", color=\"red\", alpha=0.5)\n",
    "plt.xlabel(\"x_label\")\n",
    "plt.ylabel(\"y_label\")\n",
    "plt.show()"
   ]
  },
  {
   "cell_type": "markdown",
   "id": "9d6a890f",
   "metadata": {},
   "source": [
    "### Delete dataset"
   ]
  },
  {
   "cell_type": "markdown",
   "id": "36f04252",
   "metadata": {},
   "source": [
    "Delete an existing dataset with:"
   ]
  },
  {
   "cell_type": "code",
   "execution_count": 15,
   "id": "14c23e93",
   "metadata": {},
   "outputs": [],
   "source": [
    "tl.delete_dataset(TRAINING_DATA)"
   ]
  },
  {
   "cell_type": "markdown",
   "id": "3b4d7da6",
   "metadata": {},
   "source": [
    "### Delete emulator"
   ]
  },
  {
   "cell_type": "markdown",
   "id": "edc41b52",
   "metadata": {},
   "source": [
    "Delete a trained emulator with:"
   ]
  },
  {
   "cell_type": "code",
   "execution_count": 16,
   "id": "bbe05030",
   "metadata": {},
   "outputs": [],
   "source": [
    "tl.delete_campaign(CAMPAIGN_ID)"
   ]
  }
 ],
 "metadata": {
  "kernelspec": {
   "display_name": "Python 3 (ipykernel)",
   "language": "python",
   "name": "python3"
  },
  "language_info": {
   "codemirror_mode": {
    "name": "ipython",
    "version": 3
   },
   "file_extension": ".py",
   "mimetype": "text/x-python",
   "name": "python",
   "nbconvert_exporter": "python",
   "pygments_lexer": "ipython3",
   "version": "3.9.16"
  }
 },
 "nbformat": 4,
 "nbformat_minor": 5
}
