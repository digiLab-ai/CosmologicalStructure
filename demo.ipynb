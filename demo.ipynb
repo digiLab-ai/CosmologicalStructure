{
 "cells": [
  {
   "attachments": {},
   "cell_type": "markdown",
   "id": "ff177d81",
   "metadata": {},
   "source": [
    "# Cosmological structure"
   ]
  },
  {
   "attachments": {},
   "cell_type": "markdown",
   "id": "cc7aa419",
   "metadata": {},
   "source": [
    "How to use `twinLab` to create a surrogate model for the cosmological matter power spectrum, a quantity that can be both measured from observations of galaxy clustering or weak gravitational lensing and also calculated theoretically using $n$-body simulations."
   ]
  },
  {
   "attachments": {},
   "cell_type": "markdown",
   "id": "713fe7a1",
   "metadata": {},
   "source": [
    "## Configuration\n",
    "\n",
    "We need to supply our credentials to use `twinLab`."
   ]
  },
  {
   "cell_type": "code",
   "execution_count": null,
   "id": "e0cc1d4e",
   "metadata": {},
   "outputs": [],
   "source": [
    "# Standard imports\n",
    "import os\n",
    "import dotenv"
   ]
  },
  {
   "cell_type": "code",
   "execution_count": null,
   "id": "f0da9fb2",
   "metadata": {},
   "outputs": [],
   "source": [
    "# User and group details\n",
    "USER_NAME = \"mead\"\n",
    "GROUP_NAME = \"digilab\"\n",
    "\n",
    "# Campaign\n",
    "CAMPAIGN_ID = \"cosmology\"\n",
    "\n",
    "# Data files\n",
    "TRAINING_DATA = \"cosmology.csv\"\n",
    "EVALUATION_DATA = \"eval.csv\"\n",
    "GRID_DATA = \"grid.csv\"\n",
    "\n",
    "# Directories\n",
    "CAMPAIGN_DIR = \"./resources/campaigns/cosmology\"\n",
    "DATASETS_DIR = \"./resources/datasets\""
   ]
  },
  {
   "cell_type": "code",
   "execution_count": null,
   "id": "378bdc7a",
   "metadata": {},
   "outputs": [],
   "source": [
    "# File paths\n",
    "DATASET_PATH = os.path.join(DATASETS_DIR, TRAINING_DATA)\n",
    "EVALUATION_PATH = os.path.join(CAMPAIGN_DIR, EVALUATION_DATA)\n",
    "GRID_PATH = os.path.join(CAMPAIGN_DIR, GRID_DATA)\n",
    "\n",
    "# Write to screen\n",
    "print(f\"Grid........ {GRID_PATH}\")\n",
    "print(f\"Dataset..... {DATASET_PATH}\")\n",
    "print(f\"Evaluate.... {EVALUATION_PATH}\")"
   ]
  },
  {
   "cell_type": "markdown",
   "id": "3fbd8c35",
   "metadata": {},
   "source": [
    "Create an `.env` file from `.env.example`, and fill in your `USER_NAME` and `GROUP_NAME`."
   ]
  },
  {
   "cell_type": "code",
   "execution_count": null,
   "id": "5cf18c07",
   "metadata": {},
   "outputs": [],
   "source": [
    "!cp .env.example .env\n",
    "\n",
    "dotenv_file = dotenv.find_dotenv()\n",
    "_ = dotenv.set_key(dotenv_file, \"USER_NAME\", USER_NAME)\n",
    "_ = dotenv.set_key(dotenv_file, \"GROUP_NAME\", GROUP_NAME)"
   ]
  },
  {
   "cell_type": "markdown",
   "id": "fd0de6aa",
   "metadata": {},
   "source": [
    "### Library"
   ]
  },
  {
   "cell_type": "markdown",
   "id": "f6a1d7a3",
   "metadata": {},
   "source": [
    "Import the `twinLab` client with: "
   ]
  },
  {
   "cell_type": "code",
   "execution_count": null,
   "id": "a5ebf8ba",
   "metadata": {},
   "outputs": [],
   "source": [
    "# Standard imports\n",
    "from pprint import pprint\n",
    "\n",
    "# Third-party imports\n",
    "import numpy as np\n",
    "import matplotlib.pyplot as plt\n",
    "import pandas as pd\n",
    "\n",
    "# twinLab\n",
    "import twinlab as tl"
   ]
  },
  {
   "cell_type": "markdown",
   "id": "719c5ffa",
   "metadata": {},
   "source": [
    "Ensure that the correct group and user names are reported.\n",
    "These are used to track client usage."
   ]
  },
  {
   "cell_type": "markdown",
   "id": "8996ed45",
   "metadata": {},
   "source": [
    "## Run"
   ]
  },
  {
   "cell_type": "markdown",
   "id": "729e31dc",
   "metadata": {},
   "source": [
    "### Upload dataset"
   ]
  },
  {
   "attachments": {},
   "cell_type": "markdown",
   "id": "c8fca977",
   "metadata": {},
   "source": [
    "We'll use the csv data in `resources/datasets/cosmology.csv` to train our emulator:"
   ]
  },
  {
   "cell_type": "code",
   "execution_count": null,
   "id": "d3a059f7",
   "metadata": {},
   "outputs": [],
   "source": [
    "tl.upload_dataset(DATASET_PATH)"
   ]
  },
  {
   "cell_type": "markdown",
   "id": "587e274c",
   "metadata": {},
   "source": [
    "**NOTE:** If your dataset is larger than `6mb` you should use `tl.upload_big_dataset(DATASET_PATH)`"
   ]
  },
  {
   "cell_type": "markdown",
   "id": "488b7be7",
   "metadata": {},
   "source": [
    "### List datasets"
   ]
  },
  {
   "cell_type": "markdown",
   "id": "e9ff52fa",
   "metadata": {},
   "source": [
    "Check which datasets are avalible to train with:"
   ]
  },
  {
   "cell_type": "code",
   "execution_count": null,
   "id": "2b55e633",
   "metadata": {},
   "outputs": [],
   "source": [
    "tl.list_datasets()"
   ]
  },
  {
   "cell_type": "markdown",
   "id": "b6b255b8",
   "metadata": {},
   "source": [
    "### View dataset statistics"
   ]
  },
  {
   "attachments": {},
   "cell_type": "markdown",
   "id": "a9973bdd",
   "metadata": {},
   "source": [
    "You can query the dataset to provide a statistical summary:"
   ]
  },
  {
   "cell_type": "code",
   "execution_count": null,
   "id": "3d1dc625",
   "metadata": {},
   "outputs": [],
   "source": [
    "tl.query_dataset(TRAINING_DATA)"
   ]
  },
  {
   "attachments": {},
   "cell_type": "markdown",
   "id": "020843c1",
   "metadata": {},
   "source": [
    "### Training"
   ]
  },
  {
   "attachments": {},
   "cell_type": "markdown",
   "id": "d02ebd9a",
   "metadata": {},
   "source": [
    "Set the emulator training parameters:"
   ]
  },
  {
   "cell_type": "code",
   "execution_count": null,
   "id": "b950ab74",
   "metadata": {},
   "outputs": [],
   "source": [
    "# Set parameters\n",
    "power_ratio = True\n",
    "power_log = True\n",
    "nk = 100\n",
    "inputs = [\"Omega_c\", \"Omega_b\", \"h\", \"ns\", \"sigma_8\"]\n",
    "outputs = [f\"k{i}\" for i in range(nk)]\n",
    "params = {\n",
    "    \"filename\": TRAINING_DATA,\n",
    "    \"inputs\": inputs,\n",
    "    \"outputs\": outputs,\n",
    "    \"decompose_outputs\": True,\n",
    "    \"output_explained_variance\": 0.999,\n",
    "    \"train_test_split\": 900,\n",
    "}\n",
    "pprint(params, compact=True, sort_dicts=False)"
   ]
  },
  {
   "cell_type": "markdown",
   "id": "76b083f8",
   "metadata": {},
   "source": [
    "Train the emulator:"
   ]
  },
  {
   "cell_type": "code",
   "execution_count": null,
   "id": "a70b1605",
   "metadata": {},
   "outputs": [],
   "source": [
    "tl.train_campaign(params, CAMPAIGN_ID, server=\"cloud\")"
   ]
  },
  {
   "cell_type": "markdown",
   "id": "c75b9857",
   "metadata": {},
   "source": [
    "Check which campaigns are ready with:"
   ]
  },
  {
   "cell_type": "code",
   "execution_count": null,
   "id": "b927f8d8",
   "metadata": {},
   "outputs": [],
   "source": [
    "tl.list_campaigns()"
   ]
  },
  {
   "attachments": {},
   "cell_type": "markdown",
   "id": "f359f0d9",
   "metadata": {},
   "source": [
    "View the metadata of an emulator with:"
   ]
  },
  {
   "cell_type": "code",
   "execution_count": null,
   "id": "e3911b4c",
   "metadata": {},
   "outputs": [],
   "source": [
    "response = tl.query_campaign(CAMPAIGN_ID)\n",
    "pprint(response, compact=True)"
   ]
  },
  {
   "cell_type": "markdown",
   "id": "99bb1bc7",
   "metadata": {},
   "source": [
    "### Sample"
   ]
  },
  {
   "attachments": {},
   "cell_type": "markdown",
   "id": "106a9c99",
   "metadata": {},
   "source": [
    "Sample the trained emulator with:"
   ]
  },
  {
   "cell_type": "code",
   "execution_count": null,
   "id": "fd70a692",
   "metadata": {},
   "outputs": [],
   "source": [
    "df_eval_mean, df_eval_std = tl.sample_campaign(EVALUATION_PATH, CAMPAIGN_ID)\n",
    "df_train_mean, df_train_std = tl.sample_campaign(DATASET_PATH, CAMPAIGN_ID)"
   ]
  },
  {
   "attachments": {},
   "cell_type": "markdown",
   "id": "0c97b226",
   "metadata": {},
   "source": [
    "Read in the evaluation data and the grid of $k$ values on which to evaluate $P(k)$"
   ]
  },
  {
   "cell_type": "code",
   "execution_count": null,
   "id": "10a7fa22",
   "metadata": {},
   "outputs": [],
   "source": [
    "df_train = pd.read_csv(DATASET_PATH)\n",
    "df_grid = pd.read_csv(GRID_PATH)\n",
    "df_eval = pd.read_csv(EVALUATION_PATH)"
   ]
  },
  {
   "cell_type": "code",
   "execution_count": null,
   "id": "3ff61305",
   "metadata": {},
   "outputs": [],
   "source": [
    "# Plotting parameters\n",
    "nsig = [1, 2]\n",
    "alpha_data = 0.5\n",
    "alpha_model = 0.5\n",
    "plot_band = True\n",
    "npow = 10\n",
    "\n",
    "# Plot power\n",
    "plt.subplots(1, npow, figsize=(35., 3.), sharex=True, sharey=True)\n",
    "grid = df_grid.iloc[0].values\n",
    "for i in range(npow):\n",
    "    plt.subplot(1, npow, i+1)\n",
    "    if power_ratio:\n",
    "        plt.axhline(1., color=\"black\", lw=0.5)\n",
    "    eval = df_eval[outputs].iloc[i].values\n",
    "    mean = df_eval_mean.iloc[i].values\n",
    "    err = df_eval_std.iloc[i].values\n",
    "    if power_log:\n",
    "        eval, mean = np.exp(eval), np.exp(mean)\n",
    "    plt.plot(grid, eval, color=\"black\", alpha=alpha_data)\n",
    "    if plot_band:\n",
    "        for sig in nsig:\n",
    "            if power_log:\n",
    "                ymin, ymax = np.exp(-sig*err), np.exp(sig*err)\n",
    "                ymin, ymax = mean*ymin, mean*ymax\n",
    "            else:\n",
    "                ymin, ymax = -sig*err, sig*err\n",
    "                ymin, ymax = mean+ymin, mean+ymax\n",
    "            plt.fill_between(grid, ymin, ymax, color=\"blue\", lw=0., alpha=alpha_model/sig)\n",
    "    else:\n",
    "        plt.plot(grid, mean, color=\"blue\", alpha=0.5)\n",
    "    plt.xlabel(r\"$k/h\\mathrm{Mpc}^{-1}$\")\n",
    "    plt.xscale(\"log\")\n",
    "    if i==0: \n",
    "        if power_ratio:\n",
    "            plt.ylabel(r\"$P(k)/P^\\mathrm{lin}(k)$\")\n",
    "        else:\n",
    "            plt.ylabel(r\"$P(k)/(h^{-1}\\mathrm{Mpc})^3$\")\n",
    "    plt.yscale(\"log\")\n",
    "plt.show()"
   ]
  },
  {
   "cell_type": "code",
   "execution_count": null,
   "metadata": {},
   "outputs": [],
   "source": [
    "# Parameters\n",
    "nsig = [1, 2]\n",
    "alpha_data = 0.5\n",
    "alpha_model = 0.5\n",
    "color_model = \"blue\"\n",
    "plot_train = True\n",
    "alpha_train = 0.5\n",
    "color_train = \"red\"\n",
    "dr = 2.\n",
    "plot_band = True\n",
    "ncos = 50\n",
    "nrow = 5\n",
    "\n",
    "# Calculations\n",
    "ncol = ncos//nrow\n",
    "\n",
    "# Plot\n",
    "grid = df_grid.iloc[0].values\n",
    "plt.subplots(nrow, ncol, figsize=(30, 2.5*nrow), sharex=True, sharey=True)\n",
    "for i in range(ncos):\n",
    "    plt.axhline(0., color=\"black\", lw=1)\n",
    "    plt.subplot(nrow, ncol, i+1)\n",
    "    eval = df_eval[outputs].iloc[i].values\n",
    "    eval_mean = df_eval_mean.iloc[i].values\n",
    "    eval_err = df_eval_std.iloc[i].values\n",
    "    train = df_train[outputs].iloc[i].values\n",
    "    train_mean = df_train_mean.iloc[i].values\n",
    "    train_err = df_train_std.iloc[i].values\n",
    "    if power_log:\n",
    "        eval, eval_mean = np.exp(eval), np.exp(eval_mean)\n",
    "        train, train_mean = np.exp(train), np.exp(train_mean)\n",
    "    if plot_band:\n",
    "        for sig in nsig:\n",
    "            if power_log:\n",
    "                ymin, ymax = np.exp(-sig*eval_err), np.exp(sig*eval_err)\n",
    "                ymin, ymax = 100.*((eval_mean*ymin)/eval-1.), 100.*((eval_mean*ymax)/eval-1.)\n",
    "            else:\n",
    "                ymin, ymax = -sig*eval_err, sig*eval_err\n",
    "                ymin, ymax = 100.*((eval_mean+ymin)/eval-1.), 100.*((eval_mean+ymax)/eval-1.)\n",
    "            plt.fill_between(grid, ymin, ymax, color=color_model, lw=0, alpha=alpha_model/sig)\n",
    "            if plot_train:\n",
    "                if power_log:\n",
    "                    ymin, ymax = np.exp(-sig*train_err), np.exp(sig*train_err)\n",
    "                    ymin, ymax = 100.*((train_mean*ymin)/train-1.), 100.*((train_mean*ymax)/train-1.)\n",
    "                else:\n",
    "                    ymin, ymax = -sig*train_err, sig*train_err\n",
    "                    ymin, ymax = 100.*((train_mean+ymin)/train-1.), 100.*((train_mean+ymax)/train-1.)\n",
    "                plt.fill_between(grid, ymin, ymax, color=color_train, lw=0, alpha=alpha_train/sig)\n",
    "    else:\n",
    "        y = 100.*(eval_mean/eval-1.)\n",
    "        plt.plot(grid, y, color=color_model, alpha=alpha_model)\n",
    "        if plot_train:\n",
    "            y = 100.*(train_mean/train-1.)\n",
    "            plt.plot(grid, y, color=color_train, alpha=alpha_train)\n",
    "    if i//ncol==nrow-1: plt.xlabel(r\"$k/h\\mathrm{Mpc}^{-1}$\")\n",
    "    plt.xscale(\"log\")\n",
    "    if i%ncol==0: plt.ylabel(r\"$P_\\mathrm{model}(k)/P_\\mathrm{truth}(k)-1$ [%]\")\n",
    "plt.tight_layout()\n",
    "plt.show()"
   ]
  },
  {
   "cell_type": "markdown",
   "id": "3b4d7da6",
   "metadata": {},
   "source": [
    "### Delete emulator"
   ]
  },
  {
   "cell_type": "markdown",
   "id": "edc41b52",
   "metadata": {},
   "source": [
    "Delete a trained emulator with:"
   ]
  },
  {
   "cell_type": "code",
   "execution_count": null,
   "id": "7f6e659c",
   "metadata": {},
   "outputs": [],
   "source": [
    "# tl.delete_campaign(CAMPAIGN_ID)"
   ]
  },
  {
   "cell_type": "markdown",
   "id": "9d6a890f",
   "metadata": {},
   "source": [
    "### Delete dataset"
   ]
  },
  {
   "cell_type": "markdown",
   "id": "36f04252",
   "metadata": {},
   "source": [
    "Delete an existing dataset with:"
   ]
  },
  {
   "cell_type": "code",
   "execution_count": null,
   "id": "14c23e93",
   "metadata": {},
   "outputs": [],
   "source": [
    "# tl.delete_dataset(TRAINING_DATA)"
   ]
  }
 ],
 "metadata": {
  "kernelspec": {
   "display_name": "Python 3 (ipykernel)",
   "language": "python",
   "name": "python3"
  },
  "language_info": {
   "codemirror_mode": {
    "name": "ipython",
    "version": 3
   },
   "file_extension": ".py",
   "mimetype": "text/x-python",
   "name": "python",
   "nbconvert_exporter": "python",
   "pygments_lexer": "ipython3",
   "version": "3.9.16"
  }
 },
 "nbformat": 4,
 "nbformat_minor": 5
}
